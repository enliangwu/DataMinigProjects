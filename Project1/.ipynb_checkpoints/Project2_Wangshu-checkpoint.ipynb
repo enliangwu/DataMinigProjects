{
 "cells": [
  {
   "cell_type": "code",
   "execution_count": 1,
   "metadata": {},
   "outputs": [
    {
     "name": "stdout",
     "output_type": "stream",
     "text": [
      "Index(['ID', 'LIMIT_BAL', 'SEX', 'EDUCATION', 'MARRIAGE', 'AGE', 'PAY_1',\n",
      "       'PAY_2', 'PAY_3', 'PAY_4', 'PAY_5', 'PAY_6', 'BILL_AMT1', 'BILL_AMT2',\n",
      "       'BILL_AMT3', 'BILL_AMT4', 'BILL_AMT5', 'BILL_AMT6', 'PAY_AMT1',\n",
      "       'PAY_AMT2', 'PAY_AMT3', 'PAY_AMT4', 'PAY_AMT5', 'PAY_AMT6', 'DEFAULT'],\n",
      "      dtype='object')\n"
     ]
    }
   ],
   "source": [
    "import pandas as pd\n",
    "import numpy as np\n",
    "import random\n",
    "from sklearn.linear_model import LogisticRegression\n",
    "from sklearn.model_selection import KFold\n",
    "from sklearn.metrics import confusion_matrix\n",
    "from sklearn import tree,svm\n",
    "from sklearn.neural_network import MLPClassifier\n",
    "from sklearn.model_selection import GridSearchCV\n",
    "\n",
    "data=pd.read_csv('credit_cards.csv')\n",
    "print(data.keys())\n",
    "x_key =['LIMIT_BAL', 'AGE', 'BILL_AMT1', 'BILL_AMT2',\n",
    "       'BILL_AMT3', 'BILL_AMT4', 'BILL_AMT5', 'BILL_AMT6', 'PAY_AMT1',\n",
    "       'PAY_AMT2', 'PAY_AMT3', 'PAY_AMT4', 'PAY_AMT5', 'PAY_AMT6']\n",
    "x_key_c =['SEX', 'EDUCATION', 'MARRIAGE', 'PAY_1',\n",
    "       'PAY_2', 'PAY_3', 'PAY_4', 'PAY_5', 'PAY_6']"
   ]
  },
  {
   "cell_type": "code",
   "execution_count": 2,
   "metadata": {},
   "outputs": [],
   "source": [
    "def get_min_max(data,key):\n",
    "    return min(data[key].values),max(data[key].values)\n",
    "def find_set(data,key):\n",
    "    ans=set()\n",
    "    for i in data[key].values:\n",
    "        ans.add(i)\n",
    "    ans=sorted(list(ans))\n",
    "    return ans\n",
    "def categorical_one_hot(data,key):\n",
    "    new_key_list = []\n",
    "    for i in find_set(data,key):\n",
    "        data[key+'_'+str(i)]=[1 if j==i else 0 for j in data[key].values]\n",
    "        new_key_list.append(key+'_'+str(i))\n",
    "    return new_key_list\n",
    "def numerical_normalize():\n",
    "    new_key_list = []\n",
    "    for i in x_key:\n",
    "        mi,ma = get_min_max(data, i)\n",
    "        data[i+'_n'] = (data[i]-mi)/(ma-mi)\n",
    "        new_key_list.append(i+'_n')\n",
    "    return new_key_list"
   ]
  },
  {
   "cell_type": "code",
   "execution_count": 3,
   "metadata": {},
   "outputs": [],
   "source": [
    "x_key_c_one = []\n",
    "for key in x_key_c:\n",
    "    x_key_c_one+=categorical_one_hot(data,key)\n",
    "x_key_n = numerical_normalize()\n",
    "\n",
    "X1 = np.array(data[x_key_n+x_key_c_one])\n",
    "X2 = np.array(data[x_key+x_key_c_one])\n",
    "yi = np.array(data['DEFAULT'])\n",
    "def classification(model,X_list,y,iter,balance=False):\n",
    "    kfold = KFold(5, True, 1)\n",
    "    for k in X_list:\n",
    "        a = 0\n",
    "        b = 0\n",
    "        c = 0\n",
    "        d = 0\n",
    "        cm = np.array([[0, 0], [0, 0]])\n",
    "        for train, test in kfold.split(k):\n",
    "            if balance:\n",
    "                zero = []\n",
    "                one = []\n",
    "                for j in train:\n",
    "                    if y[j] == 1:\n",
    "                        one.append(j)\n",
    "                    else:\n",
    "                        zero.append(j)\n",
    "                while len(zero) > len(one):\n",
    "                    one.append(one[random.randrange(len(one))])\n",
    "                    train = one+zero\n",
    "            if model=='r':\n",
    "                clf = LogisticRegression(max_iter=iter).fit(k[train], y[train])\n",
    "            elif model =='t':\n",
    "                clf = tree.DecisionTreeClassifier().fit(k[train], y[train])\n",
    "            elif model=='s':\n",
    "                clf = svm.SVC().fit(k[train], y[train])\n",
    "            else:\n",
    "                clf = MLPClassifier(solver='lbfgs', alpha=1e-5,hidden_layer_sizes = (5, 2), random_state = 1,max_iter=iter).fit(k[train], y[train])\n",
    "            pred = clf.predict(k[test])\n",
    "            cm += confusion_matrix(y[test], pred)\n",
    "            a += cm[0][0]\n",
    "            b += cm[0][1]\n",
    "            c += cm[1][0]\n",
    "            d += cm[1][1]\n",
    "        print(cm / 5)\n",
    "        print(a / (a + c), a / (a + b), 2 * a / (2 * a + b + c), (a + d) / (a + b + c + d))"
   ]
  },
  {
   "cell_type": "code",
   "execution_count": 4,
   "metadata": {},
   "outputs": [
    {
     "name": "stderr",
     "output_type": "stream",
     "text": [
      "C:\\Users\\caiwa\\anaconda3\\lib\\site-packages\\sklearn\\utils\\validation.py:68: FutureWarning: Pass shuffle=True, random_state=1 as keyword args. From version 0.25 passing these as positional arguments will result in an error\n",
      "  warnings.warn(\"Pass {} as keyword args. From version 0.25 \"\n"
     ]
    },
    {
     "name": "stdout",
     "output_type": "stream",
     "text": [
      "[[3546.6  180. ]\n",
      " [ 691.6  381.8]]\n",
      "0.8377927474187862 0.951589259537345 0.8910725346100407 0.81925\n",
      "[[3.7264e+03 2.0000e-01]\n",
      " [1.0734e+03 0.0000e+00]]\n",
      "0.7769073711404642 0.9999463691944653 0.8744284206823778 0.776875\n"
     ]
    }
   ],
   "source": [
    "# Task 1\n",
    "classification('r',[X1,X2],yi,1000,balance=False)"
   ]
  },
  {
   "cell_type": "code",
   "execution_count": 5,
   "metadata": {},
   "outputs": [
    {
     "name": "stderr",
     "output_type": "stream",
     "text": [
      "C:\\Users\\caiwa\\anaconda3\\lib\\site-packages\\sklearn\\utils\\validation.py:68: FutureWarning: Pass shuffle=True, random_state=1 as keyword args. From version 0.25 passing these as positional arguments will result in an error\n",
      "  warnings.warn(\"Pass {} as keyword args. From version 0.25 \"\n"
     ]
    },
    {
     "name": "stdout",
     "output_type": "stream",
     "text": [
      "[[3090.2  636.4]\n",
      " [ 453.   620.4]]\n",
      "0.8720811991563724 0.8278987450391505 0.8494158214266062 0.7719444444444444\n",
      "[[1913.  1813.6]\n",
      " [ 312.   761.4]]\n",
      "0.8614158125037463 0.5138188708927741 0.6436889724984323 0.5580555555555555\n"
     ]
    }
   ],
   "source": [
    "# Task 2\n",
    "classification('r',[X1,X2],yi,1000,balance=True)"
   ]
  },
  {
   "cell_type": "code",
   "execution_count": 6,
   "metadata": {},
   "outputs": [
    {
     "name": "stdout",
     "output_type": "stream",
     "text": [
      "['PAY_1_2', 'PAY_2_2', 'PAY_3_2', 'PAY_4_2', 'PAY_5_2', 'PAY_6_2', 'PAY_1_0', 'PAY_1_3', 'PAY_2_0', 'PAY_1_1', 'PAY_2_3', 'PAY_3_0', 'PAY_6_3', 'PAY_3_3', 'PAY_5_3', 'PAY_4_3', 'PAY_3_-1', 'PAY_2_-1', 'PAY_4_-1', 'PAY_4_0', 'PAY_4_7', 'PAY_5_7', 'PAY_1_-2', 'PAY_5_-1', 'PAY_6_7', 'PAY_6_-1', 'PAY_5_0', 'PAY_6_0', 'PAY_1_-1', 'PAY_1_4', 'PAY_4_4', 'PAY_5_4', 'EDUCATION_1', 'PAY_3_7', 'PAY_3_4', 'PAY_2_4', 'PAY_6_4', 'EDUCATION_5', 'SEX_1', 'PAY_2_-2', 'EDUCATION_2', 'PAY_3_-2', 'PAY_2_5', 'SEX_2', 'PAY_4_-2', 'EDUCATION_3', 'PAY_4_5', 'PAY_6_6', 'PAY_3_6', 'EDUCATION_4', 'PAY_2_7', 'PAY_2_6', 'PAY_1_8', 'PAY_5_-2', 'PAY_1_5', 'PAY_6_5', 'PAY_5_6', 'PAY_5_5', 'PAY_1_7', 'PAY_3_5', 'MARRIAGE_1', 'MARRIAGE_2', 'PAY_6_-2', 'PAY_1_6', 'PAY_6_8', 'MARRIAGE_0', 'PAY_5_8', 'PAY_3_8', 'EDUCATION_0', 'PAY_4_6', 'MARRIAGE_3', 'PAY_4_8', 'PAY_4_1', 'PAY_2_8', 'PAY_3_1', 'PAY_2_1', 'EDUCATION_6']\n",
      "['PAY_AMT1_n', 'PAY_AMT3_n', 'PAY_AMT4_n', 'PAY_AMT2_n', 'PAY_AMT5_n', 'LIMIT_BAL_n', 'BILL_AMT2_n', 'BILL_AMT1_n', 'PAY_AMT6_n', 'BILL_AMT6_n', 'BILL_AMT5_n', 'BILL_AMT3_n', 'BILL_AMT4_n', 'AGE_n']\n",
      "['PAY_AMT1', 'PAY_AMT3', 'PAY_AMT4', 'PAY_AMT2', 'PAY_AMT5', 'LIMIT_BAL', 'BILL_AMT2', 'BILL_AMT1', 'PAY_AMT6', 'BILL_AMT6', 'BILL_AMT5', 'BILL_AMT3', 'BILL_AMT4', 'AGE']\n"
     ]
    }
   ],
   "source": [
    "# Task 3\n",
    "import sklearn.feature_selection as aa\n",
    "import numpy\n",
    "mi=aa.mutual_info_classif(numpy.array(data[x_key_n]),data['DEFAULT'],random_state=0)\n",
    "mi2 = aa.mutual_info_classif(numpy.array(data[x_key]),data['DEFAULT'],random_state=0)\n",
    "chi=aa.chi2(numpy.array(data[x_key_c_one]),data['DEFAULT'])\n",
    "chi_rank=sorted(zip(list(chi[0]),x_key_c_one))\n",
    "mi_rank=sorted(zip(mi,x_key_n))\n",
    "mi_rank2=sorted(zip(mi,x_key))\n",
    "chi_rank.reverse()\n",
    "mi_rank.reverse()\n",
    "mi_rank2.reverse()\n",
    "print([i[1] for i in chi_rank])\n",
    "print([i[1] for i in mi_rank])\n",
    "print([i[1] for i in mi_rank2])"
   ]
  },
  {
   "cell_type": "code",
   "execution_count": 7,
   "metadata": {},
   "outputs": [
    {
     "name": "stdout",
     "output_type": "stream",
     "text": [
      "k=1\n",
      "[[3596.2  130.4]\n",
      " [ 779.   294.4]]\n",
      "0.8226553689536408 0.9650148378561979 0.8881667708710389 0.8111944444444444\n"
     ]
    },
    {
     "name": "stderr",
     "output_type": "stream",
     "text": [
      "C:\\Users\\caiwa\\anaconda3\\lib\\site-packages\\sklearn\\utils\\validation.py:68: FutureWarning: Pass shuffle=True, random_state=1 as keyword args. From version 0.25 passing these as positional arguments will result in an error\n",
      "  warnings.warn(\"Pass {} as keyword args. From version 0.25 \"\n"
     ]
    },
    {
     "name": "stdout",
     "output_type": "stream",
     "text": [
      "[[3726.6    0. ]\n",
      " [1073.4    0. ]]\n",
      "0.7769166666666667 1.0 0.8744548140505557 0.7769166666666667\n",
      "k=3\n",
      "[[3607.   119.6]\n",
      " [ 793.6  279.8]]\n",
      "0.8196800702211057 0.9682505631234581 0.8877924845305905 0.8098472222222223\n"
     ]
    },
    {
     "name": "stderr",
     "output_type": "stream",
     "text": [
      "C:\\Users\\caiwa\\anaconda3\\lib\\site-packages\\sklearn\\utils\\validation.py:68: FutureWarning: Pass shuffle=True, random_state=1 as keyword args. From version 0.25 passing these as positional arguments will result in an error\n",
      "  warnings.warn(\"Pass {} as keyword args. From version 0.25 \"\n"
     ]
    },
    {
     "name": "stdout",
     "output_type": "stream",
     "text": [
      "[[3726.6    0. ]\n",
      " [1073.4    0. ]]\n",
      "0.7769166666666667 1.0 0.8744548140505557 0.7769166666666667\n",
      "k=5\n",
      "[[3607.2  119.4]\n",
      " [ 804.   269.4]]"
     ]
    },
    {
     "name": "stderr",
     "output_type": "stream",
     "text": [
      "C:\\Users\\caiwa\\anaconda3\\lib\\site-packages\\sklearn\\utils\\validation.py:68: FutureWarning: Pass shuffle=True, random_state=1 as keyword args. From version 0.25 passing these as positional arguments will result in an error\n",
      "  warnings.warn(\"Pass {} as keyword args. From version 0.25 \"\n"
     ]
    },
    {
     "name": "stdout",
     "output_type": "stream",
     "text": [
      "\n",
      "0.8185503388189739 0.9674282241052594 0.8867841048750512 0.8080833333333334\n",
      "[[3686.6   40. ]\n",
      " [ 987.2   86.2]]\n",
      "0.792382921890483 0.9863777753941865 0.8788016341352701 0.788625\n"
     ]
    }
   ],
   "source": [
    "# I used output from the block above,\n",
    "categ= ['PAY_1_2', 'PAY_2_2', 'PAY_3_2', 'PAY_4_2', 'PAY_5_2']\n",
    "num_n=['PAY_AMT1_n', 'PAY_AMT3_n', 'PAY_AMT4_n', 'PAY_AMT2_n', 'PAY_AMT5_n']\n",
    "num=['PAY_AMT1', 'PAY_AMT3', 'PAY_AMT4', 'PAY_AMT2', 'PAY_AMT5']\n",
    "X11=np.array(data[categ[:1]+num_n[:1]])\n",
    "X21=np.array(data[categ[:1]+num[:1]])\n",
    "X13=np.array(data[categ[:3]+num_n[:3]])\n",
    "X23=np.array(data[categ[:3]+num[:3]])\n",
    "X15=np.array(data[categ[:5]+num_n[:5]])\n",
    "X25=np.array(data[categ[:5]+num[:5]])\n",
    "print('k=1')\n",
    "classification('r',[X11,X21],yi,1000)\n",
    "print('k=3')\n",
    "classification('r',[X13,X23],yi,1000)\n",
    "print('k=5')\n",
    "classification('r',[X15,X25],yi,1000)"
   ]
  },
  {
   "cell_type": "code",
   "execution_count": 8,
   "metadata": {},
   "outputs": [
    {
     "name": "stdout",
     "output_type": "stream",
     "text": [
      "Logistic Regression\n",
      "[[3596.2  130.4]\n",
      " [ 779.   294.4]]\n",
      "0.8226553689536408 0.9650148378561979 0.8881667708710389 0.8111944444444444\n"
     ]
    },
    {
     "name": "stderr",
     "output_type": "stream",
     "text": [
      "C:\\Users\\caiwa\\anaconda3\\lib\\site-packages\\sklearn\\utils\\validation.py:68: FutureWarning: Pass shuffle=True, random_state=1 as keyword args. From version 0.25 passing these as positional arguments will result in an error\n",
      "  warnings.warn(\"Pass {} as keyword args. From version 0.25 \"\n"
     ]
    },
    {
     "name": "stdout",
     "output_type": "stream",
     "text": [
      "[[3726.6    0. ]\n",
      " [1073.4    0. ]]\n",
      "0.7769166666666667 1.0 0.8744548140505557 0.7769166666666667\n"
     ]
    },
    {
     "name": "stderr",
     "output_type": "stream",
     "text": [
      "C:\\Users\\caiwa\\anaconda3\\lib\\site-packages\\sklearn\\utils\\validation.py:68: FutureWarning: Pass shuffle=True, random_state=1 as keyword args. From version 0.25 passing these as positional arguments will result in an error\n",
      "  warnings.warn(\"Pass {} as keyword args. From version 0.25 \"\n"
     ]
    },
    {
     "name": "stdout",
     "output_type": "stream",
     "text": [
      "[[3596.   130.6]\n",
      " [ 778.8  294.6]]\n",
      "0.8226543924891788 0.9649254531803068 0.8881283422459894 0.8111388888888889\n",
      "[[1775.4 1951.2]\n",
      " [ 365.2  708.2]]\n",
      "0.83508638824706 0.43288998534091316 0.5702007417436864 0.4929861111111111\n",
      "Decision Tree\n",
      "[[3459.8  266.8]\n",
      " [ 793.   280.4]]\n",
      "0.8145163818780373 0.9288497979906325 0.8679339836963784 0.7803888888888889\n"
     ]
    },
    {
     "name": "stderr",
     "output_type": "stream",
     "text": [
      "C:\\Users\\caiwa\\anaconda3\\lib\\site-packages\\sklearn\\utils\\validation.py:68: FutureWarning: Pass shuffle=True, random_state=1 as keyword args. From version 0.25 passing these as positional arguments will result in an error\n",
      "  warnings.warn(\"Pass {} as keyword args. From version 0.25 \"\n"
     ]
    },
    {
     "name": "stdout",
     "output_type": "stream",
     "text": [
      "[[3462.   264.6]\n",
      " [ 793.2  280.2]]\n",
      "0.8144985664374012 0.9293682291108012 0.8681501273326931 0.7806805555555556\n"
     ]
    },
    {
     "name": "stderr",
     "output_type": "stream",
     "text": [
      "C:\\Users\\caiwa\\anaconda3\\lib\\site-packages\\sklearn\\utils\\validation.py:68: FutureWarning: Pass shuffle=True, random_state=1 as keyword args. From version 0.25 passing these as positional arguments will result in an error\n",
      "  warnings.warn(\"Pass {} as keyword args. From version 0.25 \"\n"
     ]
    },
    {
     "name": "stdout",
     "output_type": "stream",
     "text": [
      "[[2573.6 1153. ]\n",
      " [ 446.   627.4]]\n",
      "0.8536092097075295 0.686635203260753 0.7610715913369133 0.6650555555555555\n",
      "[[2602.6 1124. ]\n",
      " [ 452.   621.4]]\n",
      "0.853495010289204 0.6895491436948049 0.762812589611494 0.6668472222222223\n",
      "SVM\n"
     ]
    },
    {
     "name": "stderr",
     "output_type": "stream",
     "text": [
      "C:\\Users\\caiwa\\anaconda3\\lib\\site-packages\\sklearn\\utils\\validation.py:68: FutureWarning: Pass shuffle=True, random_state=1 as keyword args. From version 0.25 passing these as positional arguments will result in an error\n",
      "  warnings.warn(\"Pass {} as keyword args. From version 0.25 \"\n"
     ]
    },
    {
     "name": "stdout",
     "output_type": "stream",
     "text": [
      "[[3596.   130.6]\n",
      " [ 778.8  294.6]]\n",
      "0.8226543924891788 0.9649254531803068 0.8881283422459894 0.8111388888888889\n",
      "[[3726.6    0. ]\n",
      " [1073.4    0. ]]\n",
      "0.7769166666666667 1.0 0.8744548140505557 0.7769166666666667\n"
     ]
    },
    {
     "name": "stderr",
     "output_type": "stream",
     "text": [
      "C:\\Users\\caiwa\\anaconda3\\lib\\site-packages\\sklearn\\utils\\validation.py:68: FutureWarning: Pass shuffle=True, random_state=1 as keyword args. From version 0.25 passing these as positional arguments will result in an error\n",
      "  warnings.warn(\"Pass {} as keyword args. From version 0.25 \"\n"
     ]
    },
    {
     "name": "stdout",
     "output_type": "stream",
     "text": [
      "[[3596.   130.6]\n",
      " [ 778.8  294.6]]\n",
      "0.8226543924891788 0.9649254531803068 0.8881283422459894 0.8111388888888889\n",
      "[[2268.8 1457.8]\n",
      " [ 491.   582.4]]\n",
      "0.8225481876591102 0.6064929028567343 0.6981879546834323 0.592625\n",
      "Multi-layer NN\n"
     ]
    },
    {
     "name": "stderr",
     "output_type": "stream",
     "text": [
      "C:\\Users\\caiwa\\anaconda3\\lib\\site-packages\\sklearn\\utils\\validation.py:68: FutureWarning: Pass shuffle=True, random_state=1 as keyword args. From version 0.25 passing these as positional arguments will result in an error\n",
      "  warnings.warn(\"Pass {} as keyword args. From version 0.25 \"\n"
     ]
    },
    {
     "name": "stdout",
     "output_type": "stream",
     "text": [
      "[[3596.2  130.4]\n",
      " [ 779.2  294.2]]\n",
      "0.8226025205345849 0.9649969609210197 0.888128398555434 0.811125\n",
      "[[3701.6   25. ]\n",
      " [1012.4   61. ]]\n",
      "0.7862175315488654 0.993474918659945 0.8777779532782612 0.7850555555555555\n"
     ]
    },
    {
     "name": "stderr",
     "output_type": "stream",
     "text": [
      "C:\\Users\\caiwa\\anaconda3\\lib\\site-packages\\sklearn\\utils\\validation.py:68: FutureWarning: Pass shuffle=True, random_state=1 as keyword args. From version 0.25 passing these as positional arguments will result in an error\n",
      "  warnings.warn(\"Pass {} as keyword args. From version 0.25 \"\n"
     ]
    },
    {
     "name": "stdout",
     "output_type": "stream",
     "text": [
      "[[3266.   460.6]\n",
      " [ 648.   425.4]]\n",
      "0.8425991341050305 0.8315277628803318 0.8370268397800992 0.7484305555555556\n",
      "[[3184.   542.6]\n",
      " [ 764.2  309.2]]\n",
      "0.8074864498644987 0.8522650076870821 0.8292716867574667 0.7273611111111111\n"
     ]
    }
   ],
   "source": [
    "# Task 4\n",
    "for i in [['r','Logistic Regression'],['t','Decision Tree'],['s','SVM'],['m','Multi-layer NN']]:\n",
    "    print(i[1])\n",
    "    print('Unbalanced')\n",
    "    classification(i[0],[X11,X21],yi,1000)\n",
    "    print('Balanced')\n",
    "    classification(i[0],[X11,X21],yi,1000,True)\n",
    "    print('------------------------------------')"
   ]
  },
  {
   "cell_type": "code",
   "execution_count": 9,
   "metadata": {},
   "outputs": [
    {
     "name": "stdout",
     "output_type": "stream",
     "text": [
      "Logistic Regression\n",
      "0.810125 {'C': 1.5, 'max_iter': 250, 'penalty': 'l1'}\n",
      "multi-layer perceptron neural network \n",
      "0.7804583333333333 {'activation': 'tanh', 'learning_rate_init': 0.001, 'max_iter': 1500}\n"
     ]
    }
   ],
   "source": [
    "# Task 5\n",
    "print('Logistic Regression')\n",
    "clf = LogisticRegression(solver='liblinear')\n",
    "param = {\"penalty\": ['l1', 'l2'], \"C\": [0.5, 1, 1.5], \"max_iter\": [250, 500, 1500]}\n",
    "gsearch = GridSearchCV( clf , param_grid = param, scoring='accuracy', cv=5 )\n",
    "gsearch.fit(X25, yi)\n",
    "print(gsearch.best_score_, gsearch.best_params_)\n",
    "print('multi-layer perceptron neural network ')\n",
    "clf = MLPClassifier(hidden_layer_sizes = (5, 2),learning_rate='constant')\n",
    "param = {\"activation\": ['logistic', 'tanh', 'relu'],\n",
    "         'learning_rate_init':[0.001,0.01,0.5],\"max_iter\": [500, 1500,3000]}\n",
    "gsearch = GridSearchCV( clf , param_grid = param, scoring='accuracy', cv=5 )\n",
    "gsearch.fit(X25, yi)\n",
    "print(gsearch.best_score_, gsearch.best_params_)"
   ]
  },
  {
   "cell_type": "code",
   "execution_count": null,
   "metadata": {},
   "outputs": [],
   "source": []
  }
 ],
 "metadata": {
  "kernelspec": {
   "display_name": "Python 3",
   "language": "python",
   "name": "python3"
  },
  "language_info": {
   "codemirror_mode": {
    "name": "ipython",
    "version": 3
   },
   "file_extension": ".py",
   "mimetype": "text/x-python",
   "name": "python",
   "nbconvert_exporter": "python",
   "pygments_lexer": "ipython3",
   "version": "3.7.3"
  }
 },
 "nbformat": 4,
 "nbformat_minor": 4
}
