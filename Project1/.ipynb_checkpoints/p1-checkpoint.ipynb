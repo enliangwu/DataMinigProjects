{
 "cells": [
  {
   "cell_type": "code",
   "execution_count": 6,
   "metadata": {},
   "outputs": [],
   "source": [
    "import pandas as pd\n",
    "import numpy as np\n",
    "import matplotlib.pyplot as plt\n",
    "data = pd.read_csv('credit_cards.csv')"
   ]
  },
  {
   "cell_type": "code",
   "execution_count": 7,
   "metadata": {},
   "outputs": [
    {
     "data": {
      "text/html": [
       "<div>\n",
       "<style scoped>\n",
       "    .dataframe tbody tr th:only-of-type {\n",
       "        vertical-align: middle;\n",
       "    }\n",
       "\n",
       "    .dataframe tbody tr th {\n",
       "        vertical-align: top;\n",
       "    }\n",
       "\n",
       "    .dataframe thead th {\n",
       "        text-align: right;\n",
       "    }\n",
       "</style>\n",
       "<table border=\"1\" class=\"dataframe\">\n",
       "  <thead>\n",
       "    <tr style=\"text-align: right;\">\n",
       "      <th></th>\n",
       "      <th>ID</th>\n",
       "      <th>LIMIT_BAL</th>\n",
       "      <th>SEX</th>\n",
       "      <th>EDUCATION</th>\n",
       "      <th>MARRIAGE</th>\n",
       "      <th>AGE</th>\n",
       "      <th>PAY_1</th>\n",
       "      <th>PAY_2</th>\n",
       "      <th>PAY_3</th>\n",
       "      <th>PAY_4</th>\n",
       "      <th>...</th>\n",
       "      <th>BILL_AMT4</th>\n",
       "      <th>BILL_AMT5</th>\n",
       "      <th>BILL_AMT6</th>\n",
       "      <th>PAY_AMT1</th>\n",
       "      <th>PAY_AMT2</th>\n",
       "      <th>PAY_AMT3</th>\n",
       "      <th>PAY_AMT4</th>\n",
       "      <th>PAY_AMT5</th>\n",
       "      <th>PAY_AMT6</th>\n",
       "      <th>DEFAULT</th>\n",
       "    </tr>\n",
       "  </thead>\n",
       "  <tbody>\n",
       "    <tr>\n",
       "      <th>0</th>\n",
       "      <td>17270</td>\n",
       "      <td>130000</td>\n",
       "      <td>2</td>\n",
       "      <td>2</td>\n",
       "      <td>1</td>\n",
       "      <td>34</td>\n",
       "      <td>0</td>\n",
       "      <td>0</td>\n",
       "      <td>0</td>\n",
       "      <td>0</td>\n",
       "      <td>...</td>\n",
       "      <td>105478</td>\n",
       "      <td>107725</td>\n",
       "      <td>109994</td>\n",
       "      <td>3700</td>\n",
       "      <td>5300</td>\n",
       "      <td>4000</td>\n",
       "      <td>4000</td>\n",
       "      <td>4000</td>\n",
       "      <td>6100</td>\n",
       "      <td>0</td>\n",
       "    </tr>\n",
       "    <tr>\n",
       "      <th>1</th>\n",
       "      <td>22364</td>\n",
       "      <td>290000</td>\n",
       "      <td>2</td>\n",
       "      <td>1</td>\n",
       "      <td>2</td>\n",
       "      <td>27</td>\n",
       "      <td>-1</td>\n",
       "      <td>-1</td>\n",
       "      <td>0</td>\n",
       "      <td>0</td>\n",
       "      <td>...</td>\n",
       "      <td>1503</td>\n",
       "      <td>834</td>\n",
       "      <td>931</td>\n",
       "      <td>569</td>\n",
       "      <td>1000</td>\n",
       "      <td>1000</td>\n",
       "      <td>200</td>\n",
       "      <td>265</td>\n",
       "      <td>500</td>\n",
       "      <td>0</td>\n",
       "    </tr>\n",
       "    <tr>\n",
       "      <th>2</th>\n",
       "      <td>23880</td>\n",
       "      <td>360000</td>\n",
       "      <td>1</td>\n",
       "      <td>1</td>\n",
       "      <td>2</td>\n",
       "      <td>27</td>\n",
       "      <td>-2</td>\n",
       "      <td>-2</td>\n",
       "      <td>-2</td>\n",
       "      <td>-2</td>\n",
       "      <td>...</td>\n",
       "      <td>1390</td>\n",
       "      <td>-5</td>\n",
       "      <td>-5</td>\n",
       "      <td>898</td>\n",
       "      <td>5970</td>\n",
       "      <td>1396</td>\n",
       "      <td>0</td>\n",
       "      <td>0</td>\n",
       "      <td>0</td>\n",
       "      <td>0</td>\n",
       "    </tr>\n",
       "    <tr>\n",
       "      <th>3</th>\n",
       "      <td>9074</td>\n",
       "      <td>110000</td>\n",
       "      <td>2</td>\n",
       "      <td>1</td>\n",
       "      <td>2</td>\n",
       "      <td>35</td>\n",
       "      <td>-1</td>\n",
       "      <td>2</td>\n",
       "      <td>-1</td>\n",
       "      <td>0</td>\n",
       "      <td>...</td>\n",
       "      <td>790</td>\n",
       "      <td>806</td>\n",
       "      <td>1729</td>\n",
       "      <td>0</td>\n",
       "      <td>1166</td>\n",
       "      <td>0</td>\n",
       "      <td>446</td>\n",
       "      <td>1729</td>\n",
       "      <td>0</td>\n",
       "      <td>0</td>\n",
       "    </tr>\n",
       "    <tr>\n",
       "      <th>4</th>\n",
       "      <td>25083</td>\n",
       "      <td>260000</td>\n",
       "      <td>1</td>\n",
       "      <td>3</td>\n",
       "      <td>1</td>\n",
       "      <td>48</td>\n",
       "      <td>0</td>\n",
       "      <td>0</td>\n",
       "      <td>0</td>\n",
       "      <td>0</td>\n",
       "      <td>...</td>\n",
       "      <td>155059</td>\n",
       "      <td>141570</td>\n",
       "      <td>134143</td>\n",
       "      <td>8000</td>\n",
       "      <td>6000</td>\n",
       "      <td>7100</td>\n",
       "      <td>5300</td>\n",
       "      <td>5000</td>\n",
       "      <td>5000</td>\n",
       "      <td>0</td>\n",
       "    </tr>\n",
       "  </tbody>\n",
       "</table>\n",
       "<p>5 rows × 25 columns</p>\n",
       "</div>"
      ],
      "text/plain": [
       "      ID  LIMIT_BAL  SEX  EDUCATION  MARRIAGE  AGE  PAY_1  PAY_2  PAY_3  \\\n",
       "0  17270     130000    2          2         1   34      0      0      0   \n",
       "1  22364     290000    2          1         2   27     -1     -1      0   \n",
       "2  23880     360000    1          1         2   27     -2     -2     -2   \n",
       "3   9074     110000    2          1         2   35     -1      2     -1   \n",
       "4  25083     260000    1          3         1   48      0      0      0   \n",
       "\n",
       "   PAY_4  ...  BILL_AMT4  BILL_AMT5  BILL_AMT6  PAY_AMT1  PAY_AMT2  PAY_AMT3  \\\n",
       "0      0  ...     105478     107725     109994      3700      5300      4000   \n",
       "1      0  ...       1503        834        931       569      1000      1000   \n",
       "2     -2  ...       1390         -5         -5       898      5970      1396   \n",
       "3      0  ...        790        806       1729         0      1166         0   \n",
       "4      0  ...     155059     141570     134143      8000      6000      7100   \n",
       "\n",
       "   PAY_AMT4  PAY_AMT5  PAY_AMT6  DEFAULT  \n",
       "0      4000      4000      6100        0  \n",
       "1       200       265       500        0  \n",
       "2         0         0         0        0  \n",
       "3       446      1729         0        0  \n",
       "4      5300      5000      5000        0  \n",
       "\n",
       "[5 rows x 25 columns]"
      ]
     },
     "execution_count": 7,
     "metadata": {},
     "output_type": "execute_result"
    }
   ],
   "source": [
    "data.head()"
   ]
  },
  {
   "cell_type": "code",
   "execution_count": 8,
   "metadata": {},
   "outputs": [
    {
     "data": {
      "text/plain": [
       "False"
      ]
     },
     "execution_count": 8,
     "metadata": {},
     "output_type": "execute_result"
    }
   ],
   "source": [
    "# If there is a missing value\n",
    "data.isnull().values.any()"
   ]
  },
  {
   "cell_type": "code",
   "execution_count": 9,
   "metadata": {},
   "outputs": [
    {
     "data": {
      "text/plain": [
       "0"
      ]
     },
     "execution_count": 9,
     "metadata": {},
     "output_type": "execute_result"
    }
   ],
   "source": [
    "# Sum of numbers of total missing values\n",
    "data.isnull().sum().sum()"
   ]
  },
  {
   "cell_type": "code",
   "execution_count": 10,
   "metadata": {},
   "outputs": [
    {
     "data": {
      "text/plain": [
       "ID           0\n",
       "LIMIT_BAL    0\n",
       "SEX          0\n",
       "EDUCATION    0\n",
       "MARRIAGE     0\n",
       "AGE          0\n",
       "PAY_1        0\n",
       "PAY_2        0\n",
       "PAY_3        0\n",
       "PAY_4        0\n",
       "PAY_5        0\n",
       "PAY_6        0\n",
       "BILL_AMT1    0\n",
       "BILL_AMT2    0\n",
       "BILL_AMT3    0\n",
       "BILL_AMT4    0\n",
       "BILL_AMT5    0\n",
       "BILL_AMT6    0\n",
       "PAY_AMT1     0\n",
       "PAY_AMT2     0\n",
       "PAY_AMT3     0\n",
       "PAY_AMT4     0\n",
       "PAY_AMT5     0\n",
       "PAY_AMT6     0\n",
       "DEFAULT      0\n",
       "dtype: int64"
      ]
     },
     "execution_count": 10,
     "metadata": {},
     "output_type": "execute_result"
    }
   ],
   "source": [
    "# Numbers of missing values in each column\n",
    "data.isnull().sum()"
   ]
  },
  {
   "cell_type": "code",
   "execution_count": 11,
   "metadata": {},
   "outputs": [
    {
     "data": {
      "text/plain": [
       "0        False\n",
       "1        False\n",
       "2        False\n",
       "3        False\n",
       "4        False\n",
       "         ...  \n",
       "23995    False\n",
       "23996    False\n",
       "23997    False\n",
       "23998    False\n",
       "23999    False\n",
       "Name: ID, Length: 24000, dtype: bool"
      ]
     },
     "execution_count": 11,
     "metadata": {},
     "output_type": "execute_result"
    }
   ],
   "source": [
    "# Testing if a specitic attribute has missing values\n",
    "data['ID'].isnull()"
   ]
  },
  {
   "cell_type": "code",
   "execution_count": 12,
   "metadata": {},
   "outputs": [
    {
     "data": {
      "text/plain": [
       "DEFAULT\n",
       "0    18633\n",
       "1     5367\n",
       "Name: DEFAULT, dtype: int64"
      ]
     },
     "execution_count": 12,
     "metadata": {},
     "output_type": "execute_result"
    }
   ],
   "source": [
    "data.groupby('DEFAULT').DEFAULT.count()"
   ]
  },
  {
   "cell_type": "code",
   "execution_count": 13,
   "metadata": {},
   "outputs": [
    {
     "data": {
      "text/plain": [
       "<AxesSubplot:>"
      ]
     },
     "execution_count": 13,
     "metadata": {},
     "output_type": "execute_result"
    },
    {
     "data": {
      "image/png": "[encoded data removed]",
      "text/plain": [
       "<Figure size 432x288 with 1 Axes>"
      ]
     },
     "metadata": {
      "needs_background": "light"
     },
     "output_type": "display_data"
    }
   ],
   "source": [
    "data['DEFAULT'].value_counts().plot(kind='bar')"
   ]
  },
  {
   "cell_type": "code",
   "execution_count": 14,
   "metadata": {},
   "outputs": [],
   "source": [
    "from sklearn.feature_selection import SelectKBest\n",
    "from sklearn.feature_selection import chi2\n",
    "import sklearn.feature_selection as sel"
   ]
  },
  {
   "cell_type": "code",
   "execution_count": 15,
   "metadata": {},
   "outputs": [],
   "source": [
    "data = pd.read_csv('credit_cards.csv')"
   ]
  },
  {
   "cell_type": "code",
   "execution_count": 16,
   "metadata": {},
   "outputs": [],
   "source": [
    "chi_array = ['SEX', 'EDUCATION', 'MARRIAGE', 'PAY_1', 'PAY_2', 'PAY_3', 'PAY_4', 'PAY_5', 'PAY_6']"
   ]
  },
  {
   "cell_type": "code",
   "execution_count": 17,
   "metadata": {},
   "outputs": [],
   "source": [
    "chi_result = sel.chi2(np.array(data[chi_array])+3, data['DEFAULT'])"
   ]
  },
  {
   "cell_type": "code",
   "execution_count": 18,
   "metadata": {},
   "outputs": [],
   "source": [
    "chi_feature_rank = sorted(zip(list(chi_result[0]), chi_array))"
   ]
  },
  {
   "cell_type": "code",
   "execution_count": 19,
   "metadata": {},
   "outputs": [
    {
     "data": {
      "text/plain": [
       "[(0.6364555205901261, 'MARRIAGE'),\n",
       " (2.3258176071724934, 'SEX'),\n",
       " (3.0397194906805876, 'EDUCATION'),\n",
       " (423.4020843314684, 'PAY_6'),\n",
       " (486.7422574961719, 'PAY_5'),\n",
       " (574.7819781137598, 'PAY_4'),\n",
       " (682.0954891435423, 'PAY_3'),\n",
       " (849.8185052885542, 'PAY_2'),\n",
       " (1071.137020968935, 'PAY_1')]"
      ]
     },
     "execution_count": 19,
     "metadata": {},
     "output_type": "execute_result"
    }
   ],
   "source": [
    "chi_feature_rank"
   ]
  },
  {
   "cell_type": "code",
   "execution_count": 20,
   "metadata": {},
   "outputs": [],
   "source": [
    "mi_array = ['AGE', 'BILL_AMT1', 'BILL_AMT2', 'BILL_AMT3', 'BILL_AMT4', 'BILL_AMT5', 'BILL_AMT6', \n",
    "            'PAY_AMT1', 'PAY_AMT2', 'PAY_AMT3', 'PAY_AMT4', \n",
    "            'PAY_AMT5', 'PAY_AMT6']"
   ]
  },
  {
   "cell_type": "code",
   "execution_count": 21,
   "metadata": {},
   "outputs": [],
   "source": [
    "mi_result = sel.mutual_info_classif(np.array(data[mi_array]), data['DEFAULT'], random_state = 0)"
   ]
  },
  {
   "cell_type": "code",
   "execution_count": 22,
   "metadata": {},
   "outputs": [],
   "source": [
    "mi_feature_rank = sorted(zip(mi_result, mi_array))"
   ]
  },
  {
   "cell_type": "code",
   "execution_count": 23,
   "metadata": {},
   "outputs": [
    {
     "data": {
      "text/plain": [
       "[(0.0, 'AGE'),\n",
       " (0.004241436677838273, 'BILL_AMT3'),\n",
       " (0.005733184342526121, 'BILL_AMT4'),\n",
       " (0.00660286777095731, 'BILL_AMT5'),\n",
       " (0.007637285659684689, 'BILL_AMT6'),\n",
       " (0.008837007347356929, 'BILL_AMT1'),\n",
       " (0.009260307833560466, 'BILL_AMT2'),\n",
       " (0.013255444938498506, 'PAY_AMT6'),\n",
       " (0.014164786733995127, 'PAY_AMT5'),\n",
       " (0.0157404664444889, 'PAY_AMT2'),\n",
       " (0.018206342776817097, 'PAY_AMT4'),\n",
       " (0.020687431010701696, 'PAY_AMT3'),\n",
       " (0.02573378715055652, 'PAY_AMT1')]"
      ]
     },
     "execution_count": 23,
     "metadata": {},
     "output_type": "execute_result"
    }
   ],
   "source": [
    "mi_feature_rank"
   ]
  },
  {
   "cell_type": "code",
   "execution_count": 25,
   "metadata": {},
   "outputs": [],
   "source": [
    "def attribute_value(data, attribute):\n",
    "    result = set()\n",
    "    for i in data[attribute].values:\n",
    "        result.add(i)\n",
    "    result = sorted(list(result))\n",
    "    return result\n",
    "def print_bar(data, attribute, x_label, y_label):\n",
    "    d0 = [i[1] for i in data[['DEFAULT', attribute]].values if i[0] == 0]\n",
    "    d1 = [i[1] for i in data[['DEFAULT', attribute]].values if i[0] == 1]\n",
    "    plt.grid(True)\n",
    "    plt.bar(attribute_value(data, attribute), [d0.count(i) for i in attribute_value(data, attribute)])\n",
    "    plt.bar(attribute_value(data, attribute), [d1.count(i) for i in attribute_value(data, attribute)], \n",
    "            bottom = [d0.count(i) for i in attribute_value(data, attribute)])\n",
    "    plt.legend(['DEFAULT: No', 'DEFAULT: Yes'])\n",
    "    plt.title(attribute)\n",
    "    plt.xlabel(x_label)\n",
    "    plt.ylabel(y_label)"
   ]
  },
  {
   "cell_type": "code",
   "execution_count": 26,
   "metadata": {},
   "outputs": [
    {
     "name": "stdout",
     "output_type": "stream",
     "text": [
      "Highest Ranked Categorical Features Distribution\n"
     ]
    },
    {
     "data": {
      "image/png": "[encoded data removed]",
      "text/plain": [
       "<Figure size 432x288 with 1 Axes>"
      ]
     },
     "metadata": {
      "needs_background": "light"
     },
     "output_type": "display_data"
    }
   ],
   "source": [
    "print('Highest Ranked Categorical Features Distribution')\n",
    "print_bar(data, 'MARRIAGE', 'Marriage times', 'people')"
   ]
  },
  {
   "cell_type": "code",
   "execution_count": 27,
   "metadata": {},
   "outputs": [
    {
     "name": "stdout",
     "output_type": "stream",
     "text": [
      "Second Highest Ranked Categorical Features Distribution\n"
     ]
    },
    {
     "data": {
      "image/png": "[encoded data removed]",
      "text/plain": [
       "<Figure size 432x288 with 1 Axes>"
      ]
     },
     "metadata": {
      "needs_background": "light"
     },
     "output_type": "display_data"
    }
   ],
   "source": [
    "print('Second Highest Ranked Categorical Features Distribution')\n",
    "print_bar(data, 'SEX', 'Gender', 'people')"
   ]
  },
  {
   "cell_type": "code",
   "execution_count": 28,
   "metadata": {},
   "outputs": [
    {
     "name": "stdout",
     "output_type": "stream",
     "text": [
      "Third Highest Ranked Categorical Features Distribution\n"
     ]
    },
    {
     "data": {
      "image/png": "[encoded data removed]",
      "text/plain": [
       "<Figure size 432x288 with 1 Axes>"
      ]
     },
     "metadata": {
      "needs_background": "light"
     },
     "output_type": "display_data"
    }
   ],
   "source": [
    "print('Third Highest Ranked Categorical Features Distribution')\n",
    "print_bar(data, 'EDUCATION', 'Education Level', 'people')"
   ]
  },
  {
   "cell_type": "code",
   "execution_count": 29,
   "metadata": {},
   "outputs": [
    {
     "name": "stdout",
     "output_type": "stream",
     "text": [
      "Lowest Ranked Categorical Features Distribution\n"
     ]
    },
    {
     "data": {
      "image/png": "[encoded data removed]",
      "text/plain": [
       "<Figure size 432x288 with 1 Axes>"
      ]
     },
     "metadata": {
      "needs_background": "light"
     },
     "output_type": "display_data"
    }
   ],
   "source": [
    "print('Lowest Ranked Categorical Features Distribution')\n",
    "print_bar(data, 'PAY_1', 'Payment 1', 'people')"
   ]
  },
  {
   "cell_type": "code",
   "execution_count": 30,
   "metadata": {},
   "outputs": [
    {
     "name": "stdout",
     "output_type": "stream",
     "text": [
      "Third Lowest Ranked Categorical Features Distribution\n"
     ]
    },
    {
     "data": {
      "image/png": "[encoded data removed]",
      "text/plain": [
       "<Figure size 432x288 with 1 Axes>"
      ]
     },
     "metadata": {
      "needs_background": "light"
     },
     "output_type": "display_data"
    }
   ],
   "source": [
    "print('Third Lowest Ranked Categorical Features Distribution')\n",
    "print_bar(data, 'PAY_2', 'Payment 2', 'people')"
   ]
  },
  {
   "cell_type": "code",
   "execution_count": 31,
   "metadata": {},
   "outputs": [
    {
     "name": "stdout",
     "output_type": "stream",
     "text": [
      "Second Lowest Ranked Categorical Features Distribution\n"
     ]
    },
    {
     "data": {
      "image/png": "[encoded data removed]",
      "text/plain": [
       "<Figure size 432x288 with 1 Axes>"
      ]
     },
     "metadata": {
      "needs_background": "light"
     },
     "output_type": "display_data"
    }
   ],
   "source": [
    "print('Second Lowest Ranked Categorical Features Distribution')\n",
    "print_bar(data, 'PAY_3', 'Payment 3', 'people')"
   ]
  },
  {
   "cell_type": "code",
   "execution_count": 32,
   "metadata": {},
   "outputs": [],
   "source": [
    "def print_hist(data,attribute, x_label, y_label):\n",
    "    d0 = [i[1] for i in data[['DEFAULT', attribute]].values if i[0] == 0]\n",
    "    d1 = [i[1] for i in data[['DEFAULT', attribute]].values if i[0] == 1]\n",
    "    bins = np.linspace(min(data[attribute].values), max(data[attribute].values), 20)\n",
    "    plt.grid(True)\n",
    "    plt.hist([d0, d1],bins,label=['0', '1'])\n",
    "    ax = plt.gca()\n",
    "    ax.get_xaxis().get_major_formatter().set_scientific(0)\n",
    "    plt.legend(['Default: Yes','Default: No'])\n",
    "    plt.title(attribute)\n",
    "    plt.xlabel(x_label)\n",
    "    plt.ylabel(y_label)"
   ]
  },
  {
   "cell_type": "code",
   "execution_count": 33,
   "metadata": {},
   "outputs": [
    {
     "name": "stdout",
     "output_type": "stream",
     "text": [
      "Highest Ranked Numerical Features Distribution\n"
     ]
    },
    {
     "data": {
      "image/png": "[encoded data removed]",
      "text/plain": [
       "<Figure size 432x288 with 1 Axes>"
      ]
     },
     "metadata": {
      "needs_background": "light"
     },
     "output_type": "display_data"
    }
   ],
   "source": [
    "print('Highest Ranked Numerical Features Distribution')\n",
    "print_hist(data,'AGE', 'age', 'people')"
   ]
  },
  {
   "cell_type": "code",
   "execution_count": 34,
   "metadata": {},
   "outputs": [
    {
     "name": "stdout",
     "output_type": "stream",
     "text": [
      "Second Highest Ranked Numerical Features Distribution\n"
     ]
    },
    {
     "data": {
      "image/png": "[encoded data removed]",
      "text/plain": [
       "<Figure size 432x288 with 1 Axes>"
      ]
     },
     "metadata": {
      "needs_background": "light"
     },
     "output_type": "display_data"
    }
   ],
   "source": [
    "print('Second Highest Ranked Numerical Features Distribution')\n",
    "print_hist(data,'BILL_AMT3', 'Bill Amount', 'people')"
   ]
  },
  {
   "cell_type": "code",
   "execution_count": 35,
   "metadata": {},
   "outputs": [
    {
     "name": "stdout",
     "output_type": "stream",
     "text": [
      "Third Highest Ranked Numerical Features Distribution\n"
     ]
    },
    {
     "data": {
      "image/png": "[encoded data removed]",
      "text/plain": [
       "<Figure size 432x288 with 1 Axes>"
      ]
     },
     "metadata": {
      "needs_background": "light"
     },
     "output_type": "display_data"
    }
   ],
   "source": [
    "print('Third Highest Ranked Numerical Features Distribution')\n",
    "print_hist(data,'BILL_AMT4', 'Bill Amount', 'people')"
   ]
  },
  {
   "cell_type": "code",
   "execution_count": 36,
   "metadata": {},
   "outputs": [
    {
     "name": "stdout",
     "output_type": "stream",
     "text": [
      "Lowest Ranked Numerical Features Distribution\n"
     ]
    },
    {
     "data": {
      "image/png": "[encoded data removed]",
      "text/plain": [
       "<Figure size 432x288 with 1 Axes>"
      ]
     },
     "metadata": {
      "needs_background": "light"
     },
     "output_type": "display_data"
    }
   ],
   "source": [
    "print('Lowest Ranked Numerical Features Distribution')\n",
    "print_hist(data,'PAY_AMT1', 'Pay Amount', 'people')"
   ]
  },
  {
   "cell_type": "code",
   "execution_count": 37,
   "metadata": {},
   "outputs": [
    {
     "name": "stdout",
     "output_type": "stream",
     "text": [
      "Second Lowest Ranked Numerical Features Distribution\n"
     ]
    },
    {
     "data": {
      "image/png": "[encoded data removed]",
      "text/plain": [
       "<Figure size 432x288 with 1 Axes>"
      ]
     },
     "metadata": {
      "needs_background": "light"
     },
     "output_type": "display_data"
    }
   ],
   "source": [
    "print('Second Lowest Ranked Numerical Features Distribution')\n",
    "print_hist(data,'PAY_AMT3', 'Pay Amount', 'people')"
   ]
  },
  {
   "cell_type": "code",
   "execution_count": 38,
   "metadata": {},
   "outputs": [
    {
     "name": "stdout",
     "output_type": "stream",
     "text": [
      "Third Lowest Ranked Numerical Features Distribution\n"
     ]
    },
    {
     "data": {
      "image/png": "[encoded data removed]",
      "text/plain": [
       "<Figure size 432x288 with 1 Axes>"
      ]
     },
     "metadata": {
      "needs_background": "light"
     },
     "output_type": "display_data"
    }
   ],
   "source": [
    "print('Third Lowest Ranked Numerical Features Distribution')\n",
    "print_hist(data,'PAY_AMT4', 'Pay Amount', 'people')"
   ]
  },
  {
   "cell_type": "code",
   "execution_count": 39,
   "metadata": {},
   "outputs": [],
   "source": [
    "data['TOTAL_BILL_AMT'] = data['BILL_AMT1'] + data['BILL_AMT2'] + data['BILL_AMT3'] + data['BILL_AMT4'] + data['BILL_AMT5'] + data['BILL_AMT6']"
   ]
  },
  {
   "cell_type": "code",
   "execution_count": 40,
   "metadata": {},
   "outputs": [
    {
     "name": "stdout",
     "output_type": "stream",
     "text": [
      "   BILL_AMT1  BILL_AMT2  BILL_AMT3  BILL_AMT4  BILL_AMT5  BILL_AMT6  \\\n",
      "0      99891     101032     104705     105478     107725     109994   \n",
      "1        168        569       1401       1503        834        931   \n",
      "2       2807        894       5939       1390         -5         -5   \n",
      "3        549        179       1166        790        806       1729   \n",
      "4     154927     158848     160654     155059     141570     134143   \n",
      "\n",
      "   TOTAL_BILL_AMT  \n",
      "0          628825  \n",
      "1            5406  \n",
      "2           11020  \n",
      "3            5219  \n",
      "4          905201  \n"
     ]
    }
   ],
   "source": [
    "print(data[['BILL_AMT1', 'BILL_AMT2', 'BILL_AMT3', 'BILL_AMT4', 'BILL_AMT5', 'BILL_AMT6', 'TOTAL_BILL_AMT']].head())"
   ]
  },
  {
   "cell_type": "code",
   "execution_count": 41,
   "metadata": {},
   "outputs": [],
   "source": [
    "data['TOTAL_PAY_AMT'] = data['PAY_AMT1'] + data['PAY_AMT2'] + data['PAY_AMT3'] + data['PAY_AMT4'] + data['PAY_AMT5'] + data['PAY_AMT6']"
   ]
  },
  {
   "cell_type": "code",
   "execution_count": 42,
   "metadata": {},
   "outputs": [
    {
     "name": "stdout",
     "output_type": "stream",
     "text": [
      "   PAY_AMT1  PAY_AMT2  PAY_AMT3  PAY_AMT4  PAY_AMT5  PAY_AMT6  TOTAL_PAY_AMT\n",
      "0      3700      5300      4000      4000      4000      6100          27100\n",
      "1       569      1000      1000       200       265       500           3534\n",
      "2       898      5970      1396         0         0         0           8264\n",
      "3         0      1166         0       446      1729         0           3341\n",
      "4      8000      6000      7100      5300      5000      5000          36400\n"
     ]
    }
   ],
   "source": [
    "print(data[['PAY_AMT1', 'PAY_AMT2', 'PAY_AMT3', 'PAY_AMT4', 'PAY_AMT5', 'PAY_AMT6', 'TOTAL_PAY_AMT']].head())"
   ]
  },
  {
   "cell_type": "code",
   "execution_count": 43,
   "metadata": {},
   "outputs": [],
   "source": [
    "TOTAL_BILL_AMT = data['TOTAL_BILL_AMT']\n",
    "TOTAL_PAY_AMT = data['TOTAL_PAY_AMT']"
   ]
  },
  {
   "cell_type": "code",
   "execution_count": 44,
   "metadata": {},
   "outputs": [],
   "source": [
    "bill_pay_relation = pd.DataFrame({\n",
    "    'TOTAL_BILL_AMT' : TOTAL_BILL_AMT,\n",
    "    'TOTAL_PAY_AMT' : TOTAL_PAY_AMT})"
   ]
  },
  {
   "cell_type": "code",
   "execution_count": 45,
   "metadata": {},
   "outputs": [],
   "source": [
    "correlation = TOTAL_BILL_AMT.corr(TOTAL_PAY_AMT)"
   ]
  },
  {
   "cell_type": "code",
   "execution_count": 46,
   "metadata": {},
   "outputs": [
    {
     "data": {
      "text/plain": [
       "0.3467818507428473"
      ]
     },
     "execution_count": 46,
     "metadata": {},
     "output_type": "execute_result"
    }
   ],
   "source": [
    "correlation"
   ]
  },
  {
   "cell_type": "code",
   "execution_count": 62,
   "metadata": {},
   "outputs": [
    {
     "name": "stdout",
     "output_type": "stream",
     "text": [
      "Old range of AGE: \n",
      "21 75\n",
      "New range of AGE: \n",
      "0.0 1.0\n"
     ]
    }
   ],
   "source": [
    "print('Old range of AGE: ')\n",
    "print(min(data['AGE'].values), max(data['AGE'].values))\n",
    "data['AGE'] = (data['AGE'] - data['AGE'].min()) / (data['AGE'].max() - data['AGE'].min())\n",
    "print('New range of AGE: ')\n",
    "print(min(data['AGE'].values), max(data['AGE'].values))"
   ]
  },
  {
   "cell_type": "code",
   "execution_count": 63,
   "metadata": {},
   "outputs": [
    {
     "name": "stdout",
     "output_type": "stream",
     "text": [
      "Old range of LIMIT_BAL: \n",
      "10000 1000000\n",
      "New range of LIMIT_BAL: \n",
      "0.0 1.0\n"
     ]
    }
   ],
   "source": [
    "print('Old range of LIMIT_BAL: ')\n",
    "print(min(data['LIMIT_BAL'].values), max(data['LIMIT_BAL'].values))\n",
    "data['LIMIT_BAL'] = (data['LIMIT_BAL'] - data['LIMIT_BAL'].min()) / (data['LIMIT_BAL'].max() - data['LIMIT_BAL'].min())\n",
    "print('New range of LIMIT_BAL: ')\n",
    "print(min(data['LIMIT_BAL'].values), max(data['LIMIT_BAL'].values))"
   ]
  },
  {
   "cell_type": "code",
   "execution_count": 61,
   "metadata": {},
   "outputs": [
    {
     "name": "stdout",
     "output_type": "stream",
     "text": [
      "old range of BILL_AMT1: \n",
      "0.0 1.0\n",
      "new range of BILL_AMT1: \n",
      "0.0 1.0\n"
     ]
    }
   ],
   "source": [
    "print('Old range of BILL_AMT1: ')\n",
    "print(min(data['BILL_AMT1'].values), max(data['BILL_AMT1'].values))\n",
    "data['BILL_AMT1'] = (data['BILL_AMT1'] - data['BILL_AMT1'].min()) / (data['BILL_AMT1'].max() - data['BILL_AMT1'].min())\n",
    "print('New range of BILL_AMT1: ')\n",
    "print(min(data['BILL_AMT1'].values), max(data['BILL_AMT1'].values))\n"
   ]
  },
  {
   "cell_type": "code",
   "execution_count": 50,
   "metadata": {},
   "outputs": [
    {
     "name": "stdout",
     "output_type": "stream",
     "text": [
      "original range of BILL_AMT2: \n",
      "-69777 983931\n",
      "new range of BILL_AMT2: \n",
      "0.0 1.0\n"
     ]
    }
   ],
   "source": [
    "print('Old range of BILL_AMT2: ')\n",
    "print(min(data['BILL_AMT2'].values), max(data['BILL_AMT2'].values))\n",
    "data['BILL_AMT2'] = (data['BILL_AMT2'] - data['BILL_AMT2'].min()) / (data['BILL_AMT2'].max() - data['BILL_AMT2'].min())\n",
    "print('New range of BILL_AMT2: ')\n",
    "print(min(data['BILL_AMT2'].values), max(data['BILL_AMT1'].values))"
   ]
  },
  {
   "cell_type": "code",
   "execution_count": 51,
   "metadata": {},
   "outputs": [
    {
     "name": "stdout",
     "output_type": "stream",
     "text": [
      "original range of BILL_AMT3: \n",
      "-157264 1664089\n",
      "new range of BILL_AMT3: \n",
      "0.0 1.0\n"
     ]
    }
   ],
   "source": [
    "print('Old range of BILL_AMT3: ')\n",
    "print(min(data['BILL_AMT3'].values), max(data['BILL_AMT3'].values))\n",
    "data['BILL_AMT3'] = (data['BILL_AMT3'] - data['BILL_AMT3'].min()) / (data['BILL_AMT3'].max() - data['BILL_AMT3'].min())\n",
    "print('New range of BILL_AMT3: ')\n",
    "print(min(data['BILL_AMT3'].values), max(data['BILL_AMT3'].values))"
   ]
  },
  {
   "cell_type": "code",
   "execution_count": 52,
   "metadata": {},
   "outputs": [
    {
     "name": "stdout",
     "output_type": "stream",
     "text": [
      "original range of BILL_AMT4: \n",
      "-170000 891586\n",
      "new range of BILL_AMT4: \n",
      "0.0 1.0\n"
     ]
    }
   ],
   "source": [
    "print('Old range of BILL_AMT4: ')\n",
    "print(min(data['BILL_AMT4'].values), max(data['BILL_AMT4'].values))\n",
    "data['BILL_AMT4'] = (data['BILL_AMT4'] - data['BILL_AMT4'].min()) / (data['BILL_AMT4'].max() - data['BILL_AMT4'].min())\n",
    "print('New range of BILL_AMT4: ')\n",
    "print(min(data['BILL_AMT4'].values), max(data['BILL_AMT4'].values))"
   ]
  },
  {
   "cell_type": "code",
   "execution_count": 53,
   "metadata": {},
   "outputs": [
    {
     "name": "stdout",
     "output_type": "stream",
     "text": [
      "original range of BILL_AMT5: \n",
      "-81334 927171\n",
      "new range of BILL_AMT5: \n",
      "0.0 1.0\n"
     ]
    }
   ],
   "source": [
    "print('Old range of BILL_AMT5: ')\n",
    "print(min(data['BILL_AMT5'].values), max(data['BILL_AMT5'].values))\n",
    "data['BILL_AMT5'] = (data['BILL_AMT5'] - data['BILL_AMT5'].min()) / (data['BILL_AMT5'].max() - data['BILL_AMT5'].min())\n",
    "print('New range of BILL_AMT5: ')\n",
    "print(min(data['BILL_AMT5'].values), max(data['BILL_AMT5'].values))"
   ]
  },
  {
   "cell_type": "code",
   "execution_count": 54,
   "metadata": {},
   "outputs": [
    {
     "name": "stdout",
     "output_type": "stream",
     "text": [
      "original range of BILL_AMT6: \n",
      "-339603 961664\n",
      "new range of BILL_AMT6: \n",
      "0.0 1.0\n"
     ]
    }
   ],
   "source": [
    "print('Old range of BILL_AMT6: ')\n",
    "print(min(data['BILL_AMT6'].values), max(data['BILL_AMT6'].values))\n",
    "data['BILL_AMT6'] = (data['BILL_AMT6'] - data['BILL_AMT6'].min()) / (data['BILL_AMT6'].max() - data['BILL_AMT6'].min())\n",
    "print('New range of BILL_AMT6: ')\n",
    "print(min(data['BILL_AMT6'].values), max(data['BILL_AMT6'].values))"
   ]
  },
  {
   "cell_type": "code",
   "execution_count": 55,
   "metadata": {},
   "outputs": [
    {
     "name": "stdout",
     "output_type": "stream",
     "text": [
      "original range of PAY_AMT1: \n",
      "0.0 1.0\n",
      "new range of PAY_AMT1: \n",
      "0.0 1.0\n"
     ]
    }
   ],
   "source": [
    "print('Old range of PAY_AMT1: ')\n",
    "print(min(data['PAY_AMT1'].values), max(data['PAY_AMT1'].values))\n",
    "data['PAY_AMT1'] = (data['PAY_AMT1'] - data['PAY_AMT1'].min()) / (data['PAY_AMT1'].max() - data['PAY_AMT1'].min())\n",
    "print('New range of PAY_AMT1: ')\n",
    "print(min(data['PAY_AMT1'].values), max(data['PAY_AMT1'].values))"
   ]
  },
  {
   "cell_type": "code",
   "execution_count": 56,
   "metadata": {},
   "outputs": [
    {
     "name": "stdout",
     "output_type": "stream",
     "text": [
      "original range of PAY_AMT2: \n",
      "0 1684259\n",
      "new range of PAY_AMT2: \n",
      "0.0 1.0\n"
     ]
    }
   ],
   "source": [
    "print('Old range of PAY_AMT2: ')\n",
    "print(min(data['PAY_AMT2'].values), max(data['PAY_AMT2'].values))\n",
    "data['PAY_AMT2'] = (data['PAY_AMT2'] - data['PAY_AMT2'].min()) / (data['PAY_AMT2'].max() - data['PAY_AMT2'].min())\n",
    "print('New range of PAY_AMT2: ')\n",
    "print(min(data['PAY_AMT2'].values), max(data['PAY_AMT2'].values))"
   ]
  },
  {
   "cell_type": "code",
   "execution_count": 57,
   "metadata": {},
   "outputs": [
    {
     "name": "stdout",
     "output_type": "stream",
     "text": [
      "original range of PAY_AMT3: \n",
      "0 896040\n",
      "new range of PAY_AMT3: \n",
      "0.0 1.0\n"
     ]
    }
   ],
   "source": [
    "print('Old range of PAY_AMT3: ')\n",
    "print(min(data['PAY_AMT3'].values), max(data['PAY_AMT3'].values))\n",
    "data['PAY_AMT3'] = (data['PAY_AMT3'] - data['PAY_AMT3'].min()) / (data['PAY_AMT3'].max() - data['PAY_AMT3'].min())\n",
    "print('New range of PAY_AMT3: ')\n",
    "print(min(data['PAY_AMT3'].values), max(data['PAY_AMT3'].values))"
   ]
  },
  {
   "cell_type": "code",
   "execution_count": 58,
   "metadata": {},
   "outputs": [
    {
     "name": "stdout",
     "output_type": "stream",
     "text": [
      "original range of PAY_AMT4: \n",
      "0 621000\n",
      "new range of PAY_AMT4: \n",
      "0.0 1.0\n"
     ]
    }
   ],
   "source": [
    "print('Old range of PAY_AMT4: ')\n",
    "print(min(data['PAY_AMT4'].values), max(data['PAY_AMT4'].values))\n",
    "data['PAY_AMT4'] = (data['PAY_AMT4'] - data['PAY_AMT4'].min()) / (data['PAY_AMT4'].max() - data['PAY_AMT4'].min())\n",
    "print('New range of PAY_AMT4: ')\n",
    "print(min(data['PAY_AMT4'].values), max(data['PAY_AMT4'].values))"
   ]
  },
  {
   "cell_type": "code",
   "execution_count": 59,
   "metadata": {},
   "outputs": [
    {
     "name": "stdout",
     "output_type": "stream",
     "text": [
      "original range of PAY_AMT5: \n",
      "0 426529\n",
      "new range of PAY_AMT5: \n",
      "0.0 1.0\n"
     ]
    }
   ],
   "source": [
    "print('Old range of PAY_AMT5: ')\n",
    "print(min(data['PAY_AMT5'].values), max(data['PAY_AMT5'].values))\n",
    "data['PAY_AMT5'] = (data['PAY_AMT5'] - data['PAY_AMT5'].min()) / (data['PAY_AMT5'].max() - data['PAY_AMT5'].min())\n",
    "print('New range of PAY_AMT5: ')\n",
    "print(min(data['PAY_AMT5'].values), max(data['PAY_AMT5'].values))"
   ]
  },
  {
   "cell_type": "code",
   "execution_count": 60,
   "metadata": {},
   "outputs": [
    {
     "name": "stdout",
     "output_type": "stream",
     "text": [
      "original range of PAY_AMT6: \n",
      "0 528666\n",
      "new range of PAY_AMT6: \n",
      "0.0 1.0\n"
     ]
    }
   ],
   "source": [
    "print('Old range of PAY_AMT6: ')\n",
    "print(min(data['PAY_AMT6'].values), max(data['PAY_AMT6'].values))\n",
    "data['PAY_AMT6'] = (data['PAY_AMT6'] - data['PAY_AMT6'].min()) / (data['PAY_AMT6'].max() - data['PAY_AMT6'].min())\n",
    "print('New range of PAY_AMT6: ')\n",
    "print(min(data['PAY_AMT6'].values), max(data['PAY_AMT6'].values))"
   ]
  },
  {
   "cell_type": "code",
   "execution_count": 70,
   "metadata": {},
   "outputs": [],
   "source": []
  },
  {
   "cell_type": "code",
   "execution_count": 80,
   "metadata": {},
   "outputs": [
    {
     "name": "stdout",
     "output_type": "stream",
     "text": [
      "MARRIAGE_number_0  :  45\n",
      "MARRIAGE_number_1  :  10856\n",
      "MARRIAGE_number_2  :  12832\n",
      "MARRIAGE_number_3  :  267\n",
      "SEX_number_1  :  9488\n",
      "SEX_number_2  :  14512\n"
     ]
    }
   ],
   "source": [
    "def value(data, attribute):\n",
    "    result = set()\n",
    "    for i in data[attribute].values:\n",
    "        result.add(i)\n",
    "    result = sorted(list(result))\n",
    "    return result\n",
    "def one_hot_represetation(data,attribute):\n",
    "    for i in value(data,attribute):\n",
    "        data[attribute + '_number_' + str(i)] = [1 if j!=i else 0 for j in data[attribute].values]\n",
    "        print(attribute + '_number_' + str(i), ': ', \n",
    "        list(data[attribute + '_number_' + str(i)].values).count(0))"
   ]
  },
  {
   "cell_type": "code",
   "execution_count": 82,
   "metadata": {},
   "outputs": [
    {
     "name": "stdout",
     "output_type": "stream",
     "text": [
      "MARRIAGE_number_0  :  45\n",
      "MARRIAGE_number_1  :  10856\n",
      "MARRIAGE_number_2  :  12832\n",
      "MARRIAGE_number_3  :  267\n",
      "EDUCATION_number_0  :  11\n",
      "EDUCATION_number_1  :  8450\n",
      "EDUCATION_number_2  :  11227\n",
      "EDUCATION_number_3  :  3958\n",
      "EDUCATION_number_4  :  102\n",
      "EDUCATION_number_5  :  217\n",
      "EDUCATION_number_6  :  35\n",
      "SEX_number_1  :  9488\n",
      "SEX_number_2  :  14512\n",
      "PAY_1_number_-2  :  2224\n",
      "PAY_1_number_-1  :  4513\n",
      "PAY_1_number_0  :  11737\n",
      "PAY_1_number_1  :  3033\n",
      "PAY_1_number_2  :  2126\n",
      "PAY_1_number_3  :  254\n",
      "PAY_1_number_4  :  58\n",
      "PAY_1_number_5  :  23\n",
      "PAY_1_number_6  :  8\n",
      "PAY_1_number_7  :  7\n",
      "PAY_1_number_8  :  17\n",
      "PAY_2_number_-2  :  3067\n",
      "PAY_2_number_-1  :  4831\n",
      "PAY_2_number_0  :  12525\n",
      "PAY_2_number_1  :  26\n",
      "PAY_2_number_2  :  3162\n",
      "PAY_2_number_3  :  254\n",
      "PAY_2_number_4  :  85\n",
      "PAY_2_number_5  :  21\n",
      "PAY_2_number_6  :  10\n",
      "PAY_2_number_7  :  18\n",
      "PAY_2_number_8  :  1\n",
      "PAY_3_number_-2  :  3292\n",
      "PAY_3_number_-1  :  4748\n",
      "PAY_3_number_0  :  12563\n",
      "PAY_3_number_1  :  3\n",
      "PAY_3_number_2  :  3067\n",
      "PAY_3_number_3  :  204\n",
      "PAY_3_number_4  :  61\n",
      "PAY_3_number_5  :  17\n",
      "PAY_3_number_6  :  20\n",
      "PAY_3_number_7  :  22\n",
      "PAY_3_number_8  :  3\n",
      "PAY_4_number_-2  :  3492\n",
      "PAY_4_number_-1  :  4517\n",
      "PAY_4_number_0  :  13136\n",
      "PAY_4_number_1  :  2\n",
      "PAY_4_number_2  :  2574\n",
      "PAY_4_number_3  :  142\n",
      "PAY_4_number_4  :  56\n",
      "PAY_4_number_5  :  30\n",
      "PAY_4_number_6  :  4\n",
      "PAY_4_number_7  :  45\n",
      "PAY_4_number_8  :  2\n",
      "PAY_5_number_-2  :  3646\n",
      "PAY_5_number_-1  :  4440\n",
      "PAY_5_number_0  :  13488\n",
      "PAY_5_number_2  :  2149\n",
      "PAY_5_number_3  :  142\n",
      "PAY_5_number_4  :  71\n",
      "PAY_5_number_5  :  14\n",
      "PAY_5_number_6  :  3\n",
      "PAY_5_number_7  :  46\n",
      "PAY_5_number_8  :  1\n",
      "PAY_6_number_-2  :  3940\n",
      "PAY_6_number_-1  :  4587\n",
      "PAY_6_number_0  :  12995\n",
      "PAY_6_number_2  :  2222\n",
      "PAY_6_number_3  :  152\n",
      "PAY_6_number_4  :  42\n",
      "PAY_6_number_5  :  11\n",
      "PAY_6_number_6  :  13\n",
      "PAY_6_number_7  :  36\n",
      "PAY_6_number_8  :  2\n"
     ]
    }
   ],
   "source": [
    "one_hot_represetation(data,'MARRIAGE')\n",
    "one_hot_represetation(data,'EDUCATION')\n",
    "one_hot_represetation(data,'SEX')\n",
    "one_hot_represetation(data,'PAY_1')\n",
    "one_hot_represetation(data,'PAY_2')\n",
    "one_hot_represetation(data,'PAY_3')\n",
    "one_hot_represetation(data,'PAY_4')\n",
    "one_hot_represetation(data,'PAY_5')\n",
    "one_hot_represetation(data,'PAY_6')"
   ]
  },
  {
   "cell_type": "code",
   "execution_count": null,
   "metadata": {},
   "outputs": [],
   "source": []
  },
  {
   "cell_type": "code",
   "execution_count": null,
   "metadata": {},
   "outputs": [],
   "source": []
  },
  {
   "cell_type": "code",
   "execution_count": null,
   "metadata": {},
   "outputs": [],
   "source": []
  },
  {
   "cell_type": "code",
   "execution_count": null,
   "metadata": {},
   "outputs": [],
   "source": []
  },
  {
   "cell_type": "code",
   "execution_count": null,
   "metadata": {},
   "outputs": [],
   "source": []
  }
 ],
 "metadata": {
  "kernelspec": {
   "display_name": "Python 3",
   "language": "python",
   "name": "python3"
  },
  "language_info": {
   "codemirror_mode": {
    "name": "ipython",
    "version": 3
   },
   "file_extension": ".py",
   "mimetype": "text/x-python",
   "name": "python",
   "nbconvert_exporter": "python",
   "pygments_lexer": "ipython3",
   "version": "3.7.3"
  }
 },
 "nbformat": 4,
 "nbformat_minor": 4
}
